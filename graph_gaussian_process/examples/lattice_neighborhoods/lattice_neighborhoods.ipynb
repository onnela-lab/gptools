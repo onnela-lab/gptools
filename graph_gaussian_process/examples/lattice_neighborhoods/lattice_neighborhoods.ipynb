{
 "cells": [
  {
   "cell_type": "code",
   "execution_count": null,
   "metadata": {},
   "outputs": [],
   "source": [
    "from graph_gaussian_process import util\n",
    "import matplotlib as mpl\n",
    "from matplotlib import pyplot as plt\n",
    "import networkx as nx\n",
    "import numpy as np\n",
    "\n",
    "mpl.rcParams[\"figure.dpi\"] = 144"
   ]
  },
  {
   "cell_type": "markdown",
   "metadata": {},
   "source": [
    "Considering Gaussian processes on directed acyclic graphs is a general approach to reduce the computational burden for inference. However, often, we are interested in graph structures that capture the spatial relationships between nodes. The function `lattice_neighborhoods` does just that. It constructs a directed graph for nodes on a lattice, ensuring that the graph is acyclic. Two options are supported: Cuboidal and ellipsoidal receptive fields. The latter are preferable because they preserve the isotropy of the space we are trying to approximate. They are also more efficient because the volume of a hyperellipsoid is strictly smaller than a hypercube with the same diameter, reducing the number of nodes in the receptive field. For example, in three dimensions, the relative volume of a sphere and cube is\n",
    "$$\n",
    "\\frac{V_\\mathrm{sphere}}{V_\\mathrm{cube}}=\\frac{4\\pi r^3 / 3}{\\left(2 r\\right)^3}\\approx 0.52.\n",
    "$$\n",
    "The number of nodes is reduced by a factor of two. But, because matrix inversion required to evaluate the likelihood scales approximately cubicly with the number of nodes, we can reduce the computational cost by almost an order of magnitude. \n",
    "\n",
    "The cell below illustrates the receptive fields in two dimensions and shows both predecessors (that the example node depends on in the likelihood) and successors (that depend on the example node). The union of predecessors and successors is the receptive field of the node."
   ]
  },
  {
   "cell_type": "code",
   "execution_count": null,
   "metadata": {},
   "outputs": [],
   "source": [
    "# Define the lattice size, receptive field size, and choose example node positions.\n",
    "width, height = 10, 15\n",
    "k = (3, 2)\n",
    "x, y = 5, 7\n",
    "\n",
    "shape = (width, height)\n",
    "node = np.ravel_multi_index((x, y), shape)\n",
    "coords = util.coordgrid(np.arange(width), np.arange(height))\n",
    "\n",
    "# For each of the two receptive field methods, ...\n",
    "fig, axes = plt.subplots(1, 2, sharex=True, sharey=True)\n",
    "for ax, bounds in zip(axes, [\"cuboid\", \"ellipsoid\"]):\n",
    "    # Plot the lattice and example node.\n",
    "    ax.scatter(*coords.T, color=\"silver\", marker=\".\")\n",
    "    ax.scatter(*coords[node], label=\"example node\", zorder=99).set_edgecolor(\"w\")\n",
    "    \n",
    "    # Get the lattice neighborhoods and construct a directed graph.\n",
    "    neighborhoods = util.lattice_neighborhoods((width, height), k, bounds=bounds)\n",
    "    edge_index = util.neighborhood_to_edge_index(neighborhoods, indexing=\"numpy\")\n",
    "    graph = util.edge_index_to_graph(edge_index)\n",
    "    \n",
    "    # Show predecessors (that the example node depends on in the likelihood) and successors \n",
    "    # (that depend on the example node in the likelihood).\n",
    "    for label in [\"predecessors\", \"successors\"]:\n",
    "        # Get the nodes and ensure they satisfy the ordering constraint.\n",
    "        nodes = np.asarray(list(getattr(graph, label)(node)))\n",
    "        if label == \"predecessors\":\n",
    "            assert (nodes <= node).all()\n",
    "        else:\n",
    "            assert (nodes >= node).all()\n",
    "        \n",
    "        # Plot the nodes.\n",
    "        zorder = 10 if label == \"predecessors\" else 8\n",
    "        ax.scatter(*coords[nodes].T, label=label, zorder=zorder).set_edgecolor(\"w\")\n",
    "        edges = graph.out_edges(node) if label == \"successors\" else graph.in_edges(node)\n",
    "        edges = nx.draw_networkx_edges(graph, coords, edges, ax=ax, node_size=0, alpha=0.5, \n",
    "                                       arrowsize=7)\n",
    "        for edge in edges:\n",
    "            edge.set_zorder(9)\n",
    "            \n",
    "    ax.set_aspect(\"equal\")\n",
    "    ax.set_title(f\"{bounds} bounds\")\n",
    "    ax.set_xlabel(\"Position $x_1$\")\n",
    "        \n",
    "axes[0].set_ylabel(\"Position $x_2$\")\n",
    "axes[0].yaxis.set_major_locator(mpl.ticker.MaxNLocator(integer=True))\n",
    "axes[0].legend(loc=\"upper right\")\n",
    "fig.tight_layout()"
   ]
  },
  {
   "cell_type": "code",
   "execution_count": null,
   "metadata": {},
   "outputs": [],
   "source": []
  }
 ],
 "metadata": {
  "kernelspec": {
   "display_name": "Python 3 (ipykernel)",
   "language": "python",
   "name": "python3"
  },
  "language_info": {
   "codemirror_mode": {
    "name": "ipython",
    "version": 3
   },
   "file_extension": ".py",
   "mimetype": "text/x-python",
   "name": "python",
   "nbconvert_exporter": "python",
   "pygments_lexer": "ipython3",
   "version": "3.10.0"
  },
  "vscode": {
   "interpreter": {
    "hash": "ce292631760a50db98487f107c57a4e83e7303c2c65ea0b6fb35e4138a49650e"
   }
  }
 },
 "nbformat": 4,
 "nbformat_minor": 2
}
