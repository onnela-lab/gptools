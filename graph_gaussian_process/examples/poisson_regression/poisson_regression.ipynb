{
 "cells": [
  {
   "cell_type": "code",
   "execution_count": null,
   "metadata": {},
   "outputs": [],
   "source": [
    "from graph_gaussian_process.examples import compile, sample_kwargs_from_env\n",
    "from graph_gaussian_process.examples.poisson_regression import simulate, plot_realization_1d\n",
    "from graph_gaussian_process.kernels import ExpQuadKernel\n",
    "from graph_gaussian_process.util import plot_band\n",
    "import matplotlib as mpl\n",
    "import numpy as np\n",
    "\n",
    "mpl.rcParams[\"figure.dpi\"] = 144"
   ]
  },
  {
   "cell_type": "code",
   "execution_count": null,
   "metadata": {},
   "outputs": [],
   "source": [
    "# Set up the parameters of the model and simulate forwards.\n",
    "np.random.seed(1)\n",
    "num_nodes = 100\n",
    "kernel = ExpQuadKernel(1.2, 0.1, 1e-3)\n",
    "mu = 1\n",
    "x = np.linspace(0, 1, num_nodes)\n",
    "realization = simulate(x, mu, kernel, 5)\n",
    "plot_realization_1d(realization).legend()"
   ]
  },
  {
   "cell_type": "code",
   "execution_count": null,
   "metadata": {},
   "outputs": [],
   "source": [
    "model = compile(\"poisson_regression.stan\")\n",
    "fit = model.sample(realization, **sample_kwargs_from_env())"
   ]
  },
  {
   "cell_type": "code",
   "execution_count": null,
   "metadata": {},
   "outputs": [],
   "source": [
    "ax = plot_realization_1d(realization)\n",
    "plot_band(x, np.exp(fit.stan_variable(\"eta\")), label=\"inferred rate\")\n",
    "ax.legend()"
   ]
  }
 ],
 "metadata": {
  "kernelspec": {
   "display_name": "Python 3.10.0 64-bit ('ggp')",
   "language": "python",
   "name": "python3"
  },
  "language_info": {
   "codemirror_mode": {
    "name": "ipython",
    "version": 3
   },
   "file_extension": ".py",
   "mimetype": "text/x-python",
   "name": "python",
   "nbconvert_exporter": "python",
   "pygments_lexer": "ipython3",
   "version": "3.10.0"
  },
  "orig_nbformat": 4,
  "vscode": {
   "interpreter": {
    "hash": "ce292631760a50db98487f107c57a4e83e7303c2c65ea0b6fb35e4138a49650e"
   }
  }
 },
 "nbformat": 4,
 "nbformat_minor": 2
}
