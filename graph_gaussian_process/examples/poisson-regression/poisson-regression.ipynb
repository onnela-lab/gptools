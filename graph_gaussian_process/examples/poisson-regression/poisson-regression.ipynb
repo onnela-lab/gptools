{
 "cells": [
  {
   "cell_type": "code",
   "execution_count": null,
   "metadata": {},
   "outputs": [],
   "source": [
    "from graph_gaussian_process.examples import compile, sample_kwargs_from_env\n",
    "from graph_gaussian_process.kernels import ExpQuadKernel\n",
    "from graph_gaussian_process.util import plot_band, spatial_neighborhoods, neighborhood_to_edge_index\n",
    "import matplotlib as mpl\n",
    "from matplotlib import pyplot as plt\n",
    "import numpy as np\n",
    "\n",
    "mpl.rcParams[\"figure.dpi\"] = 144"
   ]
  },
  {
   "cell_type": "code",
   "execution_count": null,
   "metadata": {},
   "outputs": [],
   "source": [
    "# Set up the parameters of the model.\n",
    "num_obs = 100\n",
    "alpha = 1.2\n",
    "rho = 0.1\n",
    "mu = 1\n",
    "eps = 1e-3\n",
    "np.random.seed(1)\n",
    "\n",
    "# Simulate the process and observations.\n",
    "x = np.linspace(0, 1, num_obs)\n",
    "X = x[:, None]\n",
    "kernel = ExpQuadKernel(alpha, rho, eps)\n",
    "cov = kernel(X)\n",
    "eta = np.random.multivariate_normal(mu * np.ones(num_obs), cov)\n",
    "lam = np.exp(eta)\n",
    "y = np.random.poisson(lam)\n",
    "\n",
    "# Assemble the state into a dictionary.\n",
    "state = {\n",
    "    \"num_obs\": num_obs,\n",
    "    \"alpha\": alpha,\n",
    "    \"rho\": rho,\n",
    "    \"eps\": eps,\n",
    "    \"x\": x,\n",
    "    \"X\": X,\n",
    "    \"eta\": eta,\n",
    "    \"lam\": lam,\n",
    "    \"y\": y,\n",
    "    \"num_dims\": 1,\n",
    "}"
   ]
  },
  {
   "cell_type": "code",
   "execution_count": null,
   "metadata": {},
   "outputs": [],
   "source": [
    "def plot_state(state, ax=None):\n",
    "    ax = ax or plt.gca()\n",
    "    ax.plot(state[\"x\"], state[\"lam\"], label=r\"rate $\\lambda$\")\n",
    "    ax.scatter(state[\"x\"], state[\"y\"], marker=\".\", color=\"black\", label=r\"counts $y$\")\n",
    "    ax.set_xlabel(r\"Coordinate $x$\")\n",
    "    ax.legend()\n",
    "\n",
    "plot_state(state)"
   ]
  },
  {
   "cell_type": "code",
   "execution_count": null,
   "metadata": {},
   "outputs": [],
   "source": [
    "model = compile(\"poisson-regression.stan\")"
   ]
  },
  {
   "cell_type": "code",
   "execution_count": null,
   "metadata": {},
   "outputs": [],
   "source": [
    "num_neighbors = 5\n",
    "neighborhoods = spatial_neighborhoods((num_obs,), num_neighbors)\n",
    "edge_index = neighborhood_to_edge_index(neighborhoods)\n",
    "connectivity = {\"edge_index\": edge_index + 1, \"num_edges\": edge_index.shape[1]}\n",
    "\n",
    "fit = model.sample(state | connectivity, **sample_kwargs_from_env())"
   ]
  },
  {
   "cell_type": "code",
   "execution_count": null,
   "metadata": {},
   "outputs": [],
   "source": [
    "plot_state(state)\n",
    "plot_band(x, np.exp(fit.stan_variable(\"eta\")), label=\"inferred rate\")"
   ]
  }
 ],
 "metadata": {
  "kernelspec": {
   "display_name": "Python 3.10.0 64-bit ('ggp')",
   "language": "python",
   "name": "python3"
  },
  "language_info": {
   "codemirror_mode": {
    "name": "ipython",
    "version": 3
   },
   "file_extension": ".py",
   "mimetype": "text/x-python",
   "name": "python",
   "nbconvert_exporter": "python",
   "pygments_lexer": "ipython3",
   "version": "3.10.0"
  },
  "orig_nbformat": 4,
  "vscode": {
   "interpreter": {
    "hash": "ce292631760a50db98487f107c57a4e83e7303c2c65ea0b6fb35e4138a49650e"
   }
  }
 },
 "nbformat": 4,
 "nbformat_minor": 2
}
